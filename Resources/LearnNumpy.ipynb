{
 "cells": [
  {
   "cell_type": "code",
   "execution_count": 4,
   "id": "53a09ac9-96d5-465d-9820-1ee1e8ed19ca",
   "metadata": {},
   "outputs": [],
   "source": [
    "import numpy as np"
   ]
  },
  {
   "cell_type": "code",
   "execution_count": 2,
   "id": "58d5d414-ecea-41ae-8e94-95fc63c5ceba",
   "metadata": {
    "scrolled": true
   },
   "outputs": [
    {
     "ename": "NameError",
     "evalue": "name 'np' is not defined",
     "output_type": "error",
     "traceback": [
      "\u001b[31m---------------------------------------------------------------------------\u001b[39m",
      "\u001b[31mNameError\u001b[39m                                 Traceback (most recent call last)",
      "\u001b[36mCell\u001b[39m\u001b[36m \u001b[39m\u001b[32mIn[2]\u001b[39m\u001b[32m, line 1\u001b[39m\n\u001b[32m----> \u001b[39m\u001b[32m1\u001b[39m np.__version__\n",
      "\u001b[31mNameError\u001b[39m: name 'np' is not defined"
     ]
    }
   ],
   "source": [
    "np.__version__"
   ]
  },
  {
   "cell_type": "markdown",
   "id": "f66eb37b-5dbd-4bea-8e9a-bf990626bbf9",
   "metadata": {},
   "source": [
    " ## Create and Read"
   ]
  },
  {
   "cell_type": "markdown",
   "id": "666b9513-f242-4511-a0af-e7cadb070c37",
   "metadata": {},
   "source": [
    "#### 1D Array"
   ]
  },
  {
   "cell_type": "code",
   "execution_count": null,
   "id": "48c7073f-2ed9-4aa3-866b-369dccee49d5",
   "metadata": {
    "scrolled": true
   },
   "outputs": [],
   "source": [
    "arr1 = np.array([1,2,3,4,5])\n",
    "arr1"
   ]
  },
  {
   "cell_type": "code",
   "execution_count": null,
   "id": "d210d66d-d067-41d6-a27f-18177e502aec",
   "metadata": {
    "scrolled": true
   },
   "outputs": [],
   "source": [
    "type(arr1)"
   ]
  },
  {
   "cell_type": "code",
   "execution_count": null,
   "id": "4ab397e7-4183-496b-8afd-410e04f78094",
   "metadata": {},
   "outputs": [],
   "source": [
    " arr1.shape"
   ]
  },
  {
   "cell_type": "code",
   "execution_count": null,
   "id": "e08d28ae-03dd-4780-becc-afbc6aea5d5d",
   "metadata": {},
   "outputs": [],
   "source": [
    "arr1.dtype"
   ]
  },
  {
   "cell_type": "code",
   "execution_count": null,
   "id": "67a69f3b-0180-470b-a504-c9ac5af21a44",
   "metadata": {},
   "outputs": [],
   "source": [
    "arr1.ndim"
   ]
  },
  {
   "cell_type": "code",
   "execution_count": null,
   "id": "6d042edd-ea3a-4062-b167-2910a0fb925d",
   "metadata": {
    "jupyter": {
     "source_hidden": true
    }
   },
   "outputs": [],
   "source": [
    "arr1.size"
   ]
  },
  {
   "cell_type": "markdown",
   "id": "14be4979-f3ce-4a99-ad9d-c6fe73914fbe",
   "metadata": {},
   "source": [
    " ##### 2D Array"
   ]
  },
  {
   "cell_type": "code",
   "execution_count": null,
   "id": "3691108d-7d33-48e5-be21-e527fbea2709",
   "metadata": {
    "jupyter": {
     "source_hidden": true
    }
   },
   "outputs": [],
   "source": [
    "arr2 = np.array([[1, 4, 5], [6, 7, 8]])\n",
    "arr2"
   ]
  },
  {
   "cell_type": "code",
   "execution_count": null,
   "id": "f164161c-8266-4155-b7df-6d28975c5a05",
   "metadata": {},
   "outputs": [],
   "source": [
    "arr2.ndim"
   ]
  },
  {
   "cell_type": "code",
   "execution_count": null,
   "id": "281c0b72-73ea-458d-b34b-67400566215e",
   "metadata": {},
   "outputs": [],
   "source": [
    "arr2.shape # ( row, column )"
   ]
  },
  {
   "cell_type": "code",
   "execution_count": null,
   "id": "eea9efe6-b726-4580-a921-b4d375f7bbb7",
   "metadata": {},
   "outputs": [],
   "source": [
    "arr2.dtype"
   ]
  },
  {
   "cell_type": "code",
   "execution_count": null,
   "id": "c28749d7-25d5-456f-8bd0-a8a4addd3eef",
   "metadata": {},
   "outputs": [],
   "source": [
    "arr2.size"
   ]
  },
  {
   "cell_type": "markdown",
   "id": "9bceda0a-024f-47c0-bf68-d34e4d096a4e",
   "metadata": {},
   "source": [
    "#### 3D Array"
   ]
  },
  {
   "cell_type": "code",
   "execution_count": 18,
   "id": "ceee5832-eb01-4d7b-ad79-3edce70cab11",
   "metadata": {},
   "outputs": [
    {
     "data": {
      "text/plain": [
       "array([[[1, 4, 5],\n",
       "        [6, 7, 4]],\n",
       "\n",
       "       [[3, 4, 5],\n",
       "        [1, 2, 4]]])"
      ]
     },
     "execution_count": 18,
     "metadata": {},
     "output_type": "execute_result"
    }
   ],
   "source": [
    "arr3 = np.array([[[1,4,5], [6,7,4]], [[3,4,5], [1, 2,4]]])\n",
    "arr3"
   ]
  },
  {
   "cell_type": "code",
   "execution_count": 10,
   "id": "353c2067-2412-4146-ba3b-550c648f9e67",
   "metadata": {},
   "outputs": [
    {
     "data": {
      "text/plain": [
       "3"
      ]
     },
     "execution_count": 10,
     "metadata": {},
     "output_type": "execute_result"
    }
   ],
   "source": [
    "arr3.ndim"
   ]
  },
  {
   "cell_type": "code",
   "execution_count": 11,
   "id": "d720e9f6-4f69-4983-8430-b9c9299c0783",
   "metadata": {},
   "outputs": [
    {
     "data": {
      "text/plain": [
       "(1, 4, 3)"
      ]
     },
     "execution_count": 11,
     "metadata": {},
     "output_type": "execute_result"
    }
   ],
   "source": [
    "arr3.shape"
   ]
  },
  {
   "cell_type": "code",
   "execution_count": 12,
   "id": "1f52c173-22bb-445e-ad5d-c0a8f75df5b5",
   "metadata": {},
   "outputs": [
    {
     "data": {
      "text/plain": [
       "12"
      ]
     },
     "execution_count": 12,
     "metadata": {},
     "output_type": "execute_result"
    }
   ],
   "source": [
    "arr3.size"
   ]
  },
  {
   "cell_type": "code",
   "execution_count": 5,
   "id": "676a396c-106a-40f9-a188-acb851bfbcf2",
   "metadata": {},
   "outputs": [
    {
     "data": {
      "text/plain": [
       "array([[[9, 9, 9],\n",
       "        [9, 9, 9]],\n",
       "\n",
       "       [[9, 9, 9],\n",
       "        [9, 9, 9]],\n",
       "\n",
       "       [[9, 9, 9],\n",
       "        [9, 9, 9]]])"
      ]
     },
     "execution_count": 5,
     "metadata": {},
     "output_type": "execute_result"
    }
   ],
   "source": [
    "full = np.full((3,2,3),9)\n",
    "full"
   ]
  },
  {
   "cell_type": "code",
   "execution_count": 7,
   "id": "ff2ec2ac-0539-4929-ae14-9d8616814b0b",
   "metadata": {},
   "outputs": [
    {
     "data": {
      "text/plain": [
       "array([[[1., 1., 1.],\n",
       "        [1., 1., 1.]],\n",
       "\n",
       "       [[1., 1., 1.],\n",
       "        [1., 1., 1.]],\n",
       "\n",
       "       [[1., 1., 1.],\n",
       "        [1., 1., 1.]]])"
      ]
     },
     "execution_count": 7,
     "metadata": {},
     "output_type": "execute_result"
    }
   ],
   "source": [
    "ones = np.ones((3, 2, 3))\n",
    "ones"
   ]
  },
  {
   "cell_type": "code",
   "execution_count": 22,
   "id": "20f5173c-4625-483e-84fb-08b9ef4bc416",
   "metadata": {},
   "outputs": [
    {
     "data": {
      "text/plain": [
       "array([[[1, 4, 5],\n",
       "        [6, 7, 4]],\n",
       "\n",
       "       [[3, 4, 5],\n",
       "        [1, 2, 4]]])"
      ]
     },
     "execution_count": 22,
     "metadata": {},
     "output_type": "execute_result"
    }
   ],
   "source": [
    "arr3"
   ]
  },
  {
   "cell_type": "code",
   "execution_count": 27,
   "id": "2e282a1b-3071-4280-b2e2-65f64128ed00",
   "metadata": {},
   "outputs": [
    {
     "data": {
      "text/plain": [
       "np.int64(4)"
      ]
     },
     "execution_count": 27,
     "metadata": {},
     "output_type": "execute_result"
    }
   ],
   "source": [
    "arr3[0][1][2]"
   ]
  },
  {
   "cell_type": "code",
   "execution_count": 30,
   "id": "cb56392e-401c-43e1-86bc-3b233a7c164b",
   "metadata": {},
   "outputs": [
    {
     "data": {
      "text/plain": [
       "array([[[1, 4, 5],\n",
       "        [6, 7, 4]]])"
      ]
     },
     "execution_count": 30,
     "metadata": {},
     "output_type": "execute_result"
    }
   ],
   "source": [
    "arr3[0:1]"
   ]
  },
  {
   "cell_type": "code",
   "execution_count": 31,
   "id": "fdc8050b-2f1e-4800-a8ab-5da731a1c957",
   "metadata": {},
   "outputs": [
    {
     "data": {
      "text/plain": [
       "array([[3, 4, 5],\n",
       "       [1, 2, 4]])"
      ]
     },
     "execution_count": 31,
     "metadata": {},
     "output_type": "execute_result"
    }
   ],
   "source": [
    "arr3[-1]"
   ]
  },
  {
   "cell_type": "code",
   "execution_count": 32,
   "id": "8f89c6fe-86c7-4bbd-b4d3-fa8deac3d848",
   "metadata": {},
   "outputs": [
    {
     "data": {
      "text/plain": [
       "np.int64(7)"
      ]
     },
     "execution_count": 32,
     "metadata": {},
     "output_type": "execute_result"
    }
   ],
   "source": [
    "arr3[0,1,1]"
   ]
  },
  {
   "cell_type": "markdown",
   "id": "ef8ab8ac-c40e-49ab-9629-4c3eeb3253a4",
   "metadata": {},
   "source": [
    "## Update & Delete"
   ]
  },
  {
   "cell_type": "code",
   "execution_count": 33,
   "id": "f70313ea-6659-46f1-a499-21611df6b4db",
   "metadata": {},
   "outputs": [],
   "source": [
    "a1 = np.random.rand(2, 3, 2)\n",
    "a2 = np.random.rand(2, 3, 2)"
   ]
  },
  {
   "cell_type": "code",
   "execution_count": 34,
   "id": "f4e3ad8e-c069-4aeb-adbd-a2b44db4763d",
   "metadata": {},
   "outputs": [
    {
     "data": {
      "text/plain": [
       "array([[[0.53907469, 0.39324321],\n",
       "        [0.21293111, 0.61912543],\n",
       "        [0.32881186, 0.7745081 ]],\n",
       "\n",
       "       [[0.77067043, 0.41930941],\n",
       "        [0.62908665, 0.28393289],\n",
       "        [0.15556107, 0.50153978]]])"
      ]
     },
     "execution_count": 34,
     "metadata": {},
     "output_type": "execute_result"
    }
   ],
   "source": [
    "a1"
   ]
  },
  {
   "cell_type": "code",
   "execution_count": 35,
   "id": "0b13b0b9-ca07-466f-975f-bf76e134b69e",
   "metadata": {},
   "outputs": [
    {
     "data": {
      "text/plain": [
       "array([[[0.14748625, 0.66038593],\n",
       "        [0.80628834, 0.41985528],\n",
       "        [0.53866047, 0.00497209]],\n",
       "\n",
       "       [[0.99060018, 0.78977243],\n",
       "        [0.26555819, 0.38000513],\n",
       "        [0.74940392, 0.9856586 ]]])"
      ]
     },
     "execution_count": 35,
     "metadata": {},
     "output_type": "execute_result"
    }
   ],
   "source": [
    "a2"
   ]
  },
  {
   "cell_type": "markdown",
   "id": "fc2fe91f-c56b-4ce4-ae45-4b761f890576",
   "metadata": {},
   "source": [
    "#### Basic Math Operations"
   ]
  },
  {
   "cell_type": "code",
   "execution_count": 36,
   "id": "2909157e-7d43-4fb9-aefb-a775e4afad8a",
   "metadata": {},
   "outputs": [
    {
     "data": {
      "text/plain": [
       "array([[[0.68656094, 1.05362914],\n",
       "        [1.01921945, 1.03898072],\n",
       "        [0.86747233, 0.7794802 ]],\n",
       "\n",
       "       [[1.76127061, 1.20908184],\n",
       "        [0.89464484, 0.66393802],\n",
       "        [0.90496499, 1.48719838]]])"
      ]
     },
     "execution_count": 36,
     "metadata": {},
     "output_type": "execute_result"
    }
   ],
   "source": [
    "np.add(a1, a2)"
   ]
  },
  {
   "cell_type": "code",
   "execution_count": 37,
   "id": "88e20c2b-9451-4746-b78a-2b76f5b6757a",
   "metadata": {},
   "outputs": [
    {
     "data": {
      "text/plain": [
       "array([[[ 0.39158844, -0.26714272],\n",
       "        [-0.59335723,  0.19927015],\n",
       "        [-0.20984861,  0.76953601]],\n",
       "\n",
       "       [[-0.21992974, -0.37046303],\n",
       "        [ 0.36352846, -0.09607224],\n",
       "        [-0.59384286, -0.48411882]]])"
      ]
     },
     "execution_count": 37,
     "metadata": {},
     "output_type": "execute_result"
    }
   ],
   "source": [
    "np.subtract(a1, a2)"
   ]
  },
  {
   "cell_type": "code",
   "execution_count": 38,
   "id": "e5c98131-9079-4114-9718-1340cc995f94",
   "metadata": {},
   "outputs": [
    {
     "data": {
      "text/plain": [
       "array([[[0.0795061 , 0.25969228],\n",
       "        [0.17168387, 0.25994309],\n",
       "        [0.17711795, 0.00385093]],\n",
       "\n",
       "       [[0.76342627, 0.33115901],\n",
       "        [0.16705911, 0.10789595],\n",
       "        [0.11657807, 0.49434699]]])"
      ]
     },
     "execution_count": 38,
     "metadata": {},
     "output_type": "execute_result"
    }
   ],
   "source": [
    "np.multiply(a1, a2)"
   ]
  },
  {
   "cell_type": "code",
   "execution_count": 39,
   "id": "d596c5da-32ce-4db6-8bcb-e567a3a9a0bd",
   "metadata": {},
   "outputs": [
    {
     "data": {
      "text/plain": [
       "array([[[  3.65508441,   0.59547485],\n",
       "        [  0.26408804,   1.47461627],\n",
       "        [  0.61042507, 155.77106634]],\n",
       "\n",
       "       [[  0.77798334,   0.53092434],\n",
       "        [  2.36892205,   0.74718172],\n",
       "        [  0.20757973,   0.50883722]]])"
      ]
     },
     "execution_count": 39,
     "metadata": {},
     "output_type": "execute_result"
    }
   ],
   "source": [
    "np.divide(a1, a2)"
   ]
  },
  {
   "cell_type": "markdown",
   "id": "c6108aac-2a40-464f-a002-9ed4ccdc43a1",
   "metadata": {},
   "source": [
    "#### Statistical Operations"
   ]
  },
  {
   "cell_type": "code",
   "execution_count": 50,
   "id": "647d4d34-48fd-48f2-b438-600fe6d2cee4",
   "metadata": {},
   "outputs": [],
   "source": [
    "sqrt = np.sqrt(64)\n",
    "abs = np.abs(-2)\n",
    "log = np.log(25)\n",
    "power = np.power(2, 10)\n",
    "mins = np.min(a1)\n",
    "maxs = np.max(a2)"
   ]
  },
  {
   "cell_type": "code",
   "execution_count": 51,
   "id": "129fd108-8919-47dd-8994-5d18881882d1",
   "metadata": {},
   "outputs": [
    {
     "data": {
      "text/plain": [
       "(np.float64(8.0),\n",
       " np.int64(2),\n",
       " np.float64(3.2188758248682006),\n",
       " np.int64(1024),\n",
       " np.float64(0.1555610665317665),\n",
       " np.float64(0.9906001757245988))"
      ]
     },
     "execution_count": 51,
     "metadata": {},
     "output_type": "execute_result"
    }
   ],
   "source": [
    "sqrt, abs, log, power, mins, maxs"
   ]
  },
  {
   "cell_type": "code",
   "execution_count": 52,
   "id": "c69e9fd3-ba40-420d-a586-29ffe9a392fa",
   "metadata": {},
   "outputs": [
    {
     "data": {
      "text/plain": [
       "array([[[1, 4, 5],\n",
       "        [6, 7, 4]],\n",
       "\n",
       "       [[3, 4, 5],\n",
       "        [1, 2, 4]]])"
      ]
     },
     "execution_count": 52,
     "metadata": {},
     "output_type": "execute_result"
    }
   ],
   "source": [
    "arr3"
   ]
  },
  {
   "cell_type": "code",
   "execution_count": 53,
   "id": "9c320055-935d-4e16-9796-46e390bfbfaa",
   "metadata": {},
   "outputs": [
    {
     "data": {
      "text/plain": [
       "array([[[ 1,  4,  5],\n",
       "        [ 6,  7, 21]],\n",
       "\n",
       "       [[ 3,  4,  5],\n",
       "        [ 1,  2,  4]]])"
      ]
     },
     "execution_count": 53,
     "metadata": {},
     "output_type": "execute_result"
    }
   ],
   "source": [
    "arr3[0][1][2] = 21\n",
    "arr3"
   ]
  },
  {
   "cell_type": "code",
   "execution_count": 57,
   "id": "4ecc6730-29eb-407a-9d8d-06cc6dd3e1d8",
   "metadata": {},
   "outputs": [
    {
     "data": {
      "text/plain": [
       "array([[[ 1,  4,  5],\n",
       "        [ 6,  7, 21]],\n",
       "\n",
       "       [[ 3,  4,  5],\n",
       "        [ 1,  2,  4]]])"
      ]
     },
     "execution_count": 57,
     "metadata": {},
     "output_type": "execute_result"
    }
   ],
   "source": [
    "arr3.sort()\n",
    "arr3"
   ]
  },
  {
   "cell_type": "code",
   "execution_count": 67,
   "id": "d45ac6af-7271-4e55-a5a7-3fb159a52096",
   "metadata": {},
   "outputs": [
    {
     "data": {
      "text/plain": [
       "(2, 2, 3)"
      ]
     },
     "execution_count": 67,
     "metadata": {},
     "output_type": "execute_result"
    }
   ],
   "source": [
    "arr3.shape"
   ]
  },
  {
   "cell_type": "code",
   "execution_count": 73,
   "id": "0b2e19b3-fd9f-46a2-a880-c46378284182",
   "metadata": {},
   "outputs": [
    {
     "data": {
      "text/plain": [
       "array([[[ 1,  4,  5,  6,  7, 21]],\n",
       "\n",
       "       [[ 3,  4,  5,  1,  2,  4]]])"
      ]
     },
     "execution_count": 73,
     "metadata": {},
     "output_type": "execute_result"
    }
   ],
   "source": [
    "arr3_reshape = arr3.reshape((2, 1, -1))\n",
    "arr3_reshape"
   ]
  },
  {
   "cell_type": "code",
   "execution_count": 75,
   "id": "72d3a1bb-9469-49fa-b487-a1de537bbcc4",
   "metadata": {},
   "outputs": [
    {
     "data": {
      "text/plain": [
       "(2, 1, 6)"
      ]
     },
     "execution_count": 75,
     "metadata": {},
     "output_type": "execute_result"
    }
   ],
   "source": [
    "arr3_reshape.shape"
   ]
  },
  {
   "cell_type": "markdown",
   "id": "38e83335-c06b-458d-816e-65da169b83ac",
   "metadata": {},
   "source": [
    "#### Appending and Inserting"
   ]
  },
  {
   "cell_type": "code",
   "execution_count": 82,
   "id": "e0c679d8-b973-439a-be4e-00369e8f00a7",
   "metadata": {},
   "outputs": [
    {
     "data": {
      "text/plain": [
       "array([[[0., 0., 0.],\n",
       "        [0., 0., 0.]],\n",
       "\n",
       "       [[0., 0., 0.],\n",
       "        [0., 0., 0.]],\n",
       "\n",
       "       [[0., 0., 0.],\n",
       "        [0., 0., 0.]]])"
      ]
     },
     "execution_count": 82,
     "metadata": {},
     "output_type": "execute_result"
    }
   ],
   "source": [
    "zeroes = np.zeros((3, 2, 3))\n",
    "zeroes"
   ]
  },
  {
   "cell_type": "code",
   "execution_count": 83,
   "id": "8b86cb96-2bac-437e-916e-98200ce89c06",
   "metadata": {},
   "outputs": [
    {
     "data": {
      "text/plain": [
       "array([[[1., 1., 1.],\n",
       "        [1., 1., 1.]],\n",
       "\n",
       "       [[1., 1., 1.],\n",
       "        [1., 1., 1.]],\n",
       "\n",
       "       [[1., 1., 1.],\n",
       "        [1., 1., 1.]]])"
      ]
     },
     "execution_count": 83,
     "metadata": {},
     "output_type": "execute_result"
    }
   ],
   "source": [
    "ones"
   ]
  },
  {
   "cell_type": "code",
   "execution_count": 89,
   "id": "d17dbda2-746f-4185-b54f-5ba1c0be4b3c",
   "metadata": {},
   "outputs": [
    {
     "data": {
      "text/plain": [
       "array([[[0., 0., 0.],\n",
       "        [0., 0., 0.]],\n",
       "\n",
       "       [[0., 0., 0.],\n",
       "        [0., 0., 0.]],\n",
       "\n",
       "       [[0., 0., 0.],\n",
       "        [0., 0., 0.]],\n",
       "\n",
       "       [[1., 1., 1.],\n",
       "        [1., 1., 1.]],\n",
       "\n",
       "       [[1., 1., 1.],\n",
       "        [1., 1., 1.]],\n",
       "\n",
       "       [[1., 1., 1.],\n",
       "        [1., 1., 1.]]])"
      ]
     },
     "execution_count": 89,
     "metadata": {},
     "output_type": "execute_result"
    }
   ],
   "source": [
    "apnd = np.append(zeroes, ones, axis= 0)\n",
    "apnd"
   ]
  },
  {
   "cell_type": "markdown",
   "id": "804b1d71-e2d5-4f0f-96ce-e88e88b2e947",
   "metadata": {},
   "source": [
    "Insert"
   ]
  },
  {
   "cell_type": "code",
   "execution_count": 92,
   "id": "17f1982d-2110-4914-9809-10f4b32d5dd2",
   "metadata": {},
   "outputs": [
    {
     "data": {
      "text/plain": [
       "array([[[0., 0., 0.],\n",
       "        [0., 0., 0.]],\n",
       "\n",
       "       [[1., 1., 1.],\n",
       "        [1., 1., 1.]],\n",
       "\n",
       "       [[1., 1., 1.],\n",
       "        [1., 1., 1.]],\n",
       "\n",
       "       [[1., 1., 1.],\n",
       "        [1., 1., 1.]],\n",
       "\n",
       "       [[0., 0., 0.],\n",
       "        [0., 0., 0.]],\n",
       "\n",
       "       [[0., 0., 0.],\n",
       "        [0., 0., 0.]]])"
      ]
     },
     "execution_count": 92,
     "metadata": {},
     "output_type": "execute_result"
    }
   ],
   "source": [
    "inserted_array = np.insert(zeroes, 1, ones, axis=0)\n",
    "inserted_array"
   ]
  },
  {
   "cell_type": "code",
   "execution_count": 94,
   "id": "d9200f16-5428-4f16-90c2-d00d176bee7e",
   "metadata": {},
   "outputs": [
    {
     "data": {
      "text/plain": [
       "array([[[0.62643882, 0.79891531, 0.33610391],\n",
       "        [0.03246202, 0.04558862, 0.78872485]],\n",
       "\n",
       "       [[0.05852974, 0.84884354, 0.75767344],\n",
       "        [0.67645444, 0.88235798, 0.25210791]],\n",
       "\n",
       "       [[0.87154162, 0.44809319, 0.57325484],\n",
       "        [0.18841991, 0.86653117, 0.45101733]]])"
      ]
     },
     "execution_count": 94,
     "metadata": {},
     "output_type": "execute_result"
    }
   ],
   "source": [
    "arr4 = np.random.rand(3, 2, 3)\n",
    "arr4"
   ]
  },
  {
   "cell_type": "code",
   "execution_count": 96,
   "id": "26a010e2-06c2-468a-9361-0818fdaa2c72",
   "metadata": {},
   "outputs": [
    {
     "data": {
      "text/plain": [
       "array([[[0.03246202, 0.04558862, 0.78872485]],\n",
       "\n",
       "       [[0.67645444, 0.88235798, 0.25210791]],\n",
       "\n",
       "       [[0.18841991, 0.86653117, 0.45101733]]])"
      ]
     },
     "execution_count": 96,
     "metadata": {},
     "output_type": "execute_result"
    }
   ],
   "source": [
    "#delete the array\n",
    "arr5 = np.delete(arr4, 0, axis=1)\n",
    "arr5"
   ]
  },
  {
   "cell_type": "code",
   "execution_count": 97,
   "id": "f772893d-85d3-4c4b-a226-7770cd9b628e",
   "metadata": {},
   "outputs": [],
   "source": [
    "np.save(\"New array\", arr5)"
   ]
  },
  {
   "cell_type": "code",
   "execution_count": 98,
   "id": "d4141e03-f300-47be-9841-977394c5ab20",
   "metadata": {},
   "outputs": [
    {
     "data": {
      "text/plain": [
       "array([[[0.03246202, 0.04558862, 0.78872485]],\n",
       "\n",
       "       [[0.67645444, 0.88235798, 0.25210791]],\n",
       "\n",
       "       [[0.18841991, 0.86653117, 0.45101733]]])"
      ]
     },
     "execution_count": 98,
     "metadata": {},
     "output_type": "execute_result"
    }
   ],
   "source": [
    "np.load(\"New Array.npy\")"
   ]
  },
  {
   "cell_type": "code",
   "execution_count": null,
   "id": "d54c58ee-c2c4-44c1-8e88-663e980f08a2",
   "metadata": {},
   "outputs": [],
   "source": []
  }
 ],
 "metadata": {
  "kernelspec": {
   "display_name": "Python 3 (ipykernel)",
   "language": "python",
   "name": "python3"
  },
  "language_info": {
   "codemirror_mode": {
    "name": "ipython",
    "version": 3
   },
   "file_extension": ".py",
   "mimetype": "text/x-python",
   "name": "python",
   "nbconvert_exporter": "python",
   "pygments_lexer": "ipython3",
   "version": "3.13.5"
  }
 },
 "nbformat": 4,
 "nbformat_minor": 5
}
